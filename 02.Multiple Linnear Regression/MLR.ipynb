{
 "cells": [
  {
   "cell_type": "markdown",
   "id": "39306c46",
   "metadata": {},
   "source": [
    "# Multiple Linnear Regression"
   ]
  },
  {
   "cell_type": "markdown",
   "id": "4c002526",
   "metadata": {},
   "source": [
    "### Multiple Predictors and single target\n",
    "1. y ~ x1,x2,x3,......,xn\n",
    "2.Ypred = B0+B1 * x1 + B2 * x2 + B3 * X3....+ Bn * Xn"
   ]
  },
  {
   "cell_type": "code",
   "execution_count": 1,
   "id": "0a8c2781",
   "metadata": {},
   "outputs": [
    {
     "ename": "ImportError",
     "evalue": "cannot import name 'filterwarings' from 'warnings' (D:\\apurva\\Lib\\warnings.py)",
     "output_type": "error",
     "traceback": [
      "\u001b[31m---------------------------------------------------------------------------\u001b[39m",
      "\u001b[31mImportError\u001b[39m                               Traceback (most recent call last)",
      "\u001b[36mCell\u001b[39m\u001b[36m \u001b[39m\u001b[32mIn[1]\u001b[39m\u001b[32m, line 2\u001b[39m\n\u001b[32m      1\u001b[39m \u001b[38;5;66;03m# Ignore non harmful Warnings\u001b[39;00m\n\u001b[32m----> \u001b[39m\u001b[32m2\u001b[39m \u001b[38;5;28;01mfrom\u001b[39;00m\u001b[38;5;250m \u001b[39m\u001b[34;01mwarnings\u001b[39;00m\u001b[38;5;250m \u001b[39m\u001b[38;5;28;01mimport\u001b[39;00m filterwarings\n\u001b[32m      4\u001b[39m filterwarnings(\u001b[33m\"\u001b[39m\u001b[33mignore\u001b[39m\u001b[33m\"\u001b[39m)\n",
      "\u001b[31mImportError\u001b[39m: cannot import name 'filterwarings' from 'warnings' (D:\\apurva\\Lib\\warnings.py)"
     ]
    }
   ],
   "source": [
    "# Ignore non harmful Warnings\n",
    "from warnings import filterwarings\n",
    "\n",
    "filterwarnings(\"ignore\")"
   ]
  }
 ],
 "metadata": {
  "kernelspec": {
   "display_name": ".venv",
   "language": "python",
   "name": "python3"
  },
  "language_info": {
   "codemirror_mode": {
    "name": "ipython",
    "version": 3
   },
   "file_extension": ".py",
   "mimetype": "text/x-python",
   "name": "python",
   "nbconvert_exporter": "python",
   "pygments_lexer": "ipython3",
   "version": "3.12.7"
  }
 },
 "nbformat": 4,
 "nbformat_minor": 5
}
